{
 "cells": [
  {
   "cell_type": "code",
   "execution_count": 6,
   "metadata": {},
   "outputs": [],
   "source": [
    "import json\n",
    "import sys\n",
    "import pprint\n",
    "import os\n",
    "import configparser\n",
    "import time\n",
    "import json\n",
    "from twython import Twython\n",
    "import os\n",
    "import numpy as np\n",
    "import random\n",
    "import time\n",
    "import pickle\n",
    "\n",
    "tweetid = sys.argv[1]\n",
    "config = configparser.ConfigParser()\n",
    "config.read('twitter.ini')\n",
    "consumer_key = config.get('Twitter', 'consumer_key')\n",
    "consumer_secret = config.get('Twitter', 'consumer_secret')\n",
    "access_key = config.get('Twitter', 'access_key')\n",
    "access_secret = config.get('Twitter', 'access_secret')\n",
    "twitter = Twython(\n",
    "        consumer_key, consumer_secret,\n",
    "        access_key, access_secret\n",
    "    )\n",
    "# with open(\"twitter.handler\", \"rb\") as fr:\n",
    "#     twitter = pickle.load(fr)"
   ]
  },
  {
   "cell_type": "code",
   "execution_count": 8,
   "metadata": {},
   "outputs": [
    {
     "ename": "TwythonAuthError",
     "evalue": "Twitter API returned a 400 (Bad Request), Bad Authentication data.",
     "output_type": "error",
     "traceback": [
      "\u001b[0;31m---------------------------------------------------------------------------\u001b[0m",
      "\u001b[0;31mTwythonAuthError\u001b[0m                          Traceback (most recent call last)",
      "\u001b[0;32m<ipython-input-8-4db80bcf84b4>\u001b[0m in \u001b[0;36m<module>\u001b[0;34m\u001b[0m\n\u001b[0;32m----> 1\u001b[0;31m \u001b[0mtwitter\u001b[0m\u001b[0;34m.\u001b[0m\u001b[0mshow_status\u001b[0m\u001b[0;34m(\u001b[0m\u001b[0mid\u001b[0m\u001b[0;34m=\u001b[0m\u001b[0;34m\"1186080994316689408\"\u001b[0m\u001b[0;34m)\u001b[0m\u001b[0;34m\u001b[0m\u001b[0m\n\u001b[0m",
      "\u001b[0;32m~/anaconda3/envs/Spider/lib/python3.6/site-packages/twython/endpoints.py\u001b[0m in \u001b[0;36mshow_status\u001b[0;34m(self, **params)\u001b[0m\n\u001b[1;32m     92\u001b[0m \u001b[0;34m\u001b[0m\u001b[0m\n\u001b[1;32m     93\u001b[0m         \"\"\"\n\u001b[0;32m---> 94\u001b[0;31m         \u001b[0;32mreturn\u001b[0m \u001b[0mself\u001b[0m\u001b[0;34m.\u001b[0m\u001b[0mget\u001b[0m\u001b[0;34m(\u001b[0m\u001b[0;34m'statuses/show/%s'\u001b[0m \u001b[0;34m%\u001b[0m \u001b[0mparams\u001b[0m\u001b[0;34m.\u001b[0m\u001b[0mget\u001b[0m\u001b[0;34m(\u001b[0m\u001b[0;34m'id'\u001b[0m\u001b[0;34m)\u001b[0m\u001b[0;34m,\u001b[0m \u001b[0mparams\u001b[0m\u001b[0;34m=\u001b[0m\u001b[0mparams\u001b[0m\u001b[0;34m)\u001b[0m\u001b[0;34m\u001b[0m\u001b[0m\n\u001b[0m\u001b[1;32m     95\u001b[0m \u001b[0;34m\u001b[0m\u001b[0m\n\u001b[1;32m     96\u001b[0m     \u001b[0;32mdef\u001b[0m \u001b[0mlookup_status\u001b[0m\u001b[0;34m(\u001b[0m\u001b[0mself\u001b[0m\u001b[0;34m,\u001b[0m \u001b[0;34m**\u001b[0m\u001b[0mparams\u001b[0m\u001b[0;34m)\u001b[0m\u001b[0;34m:\u001b[0m\u001b[0;34m\u001b[0m\u001b[0m\n",
      "\u001b[0;32m~/anaconda3/envs/Spider/lib/python3.6/site-packages/twython/api.py\u001b[0m in \u001b[0;36mget\u001b[0;34m(self, endpoint, params, version)\u001b[0m\n\u001b[1;32m    268\u001b[0m     \u001b[0;32mdef\u001b[0m \u001b[0mget\u001b[0m\u001b[0;34m(\u001b[0m\u001b[0mself\u001b[0m\u001b[0;34m,\u001b[0m \u001b[0mendpoint\u001b[0m\u001b[0;34m,\u001b[0m \u001b[0mparams\u001b[0m\u001b[0;34m=\u001b[0m\u001b[0;32mNone\u001b[0m\u001b[0;34m,\u001b[0m \u001b[0mversion\u001b[0m\u001b[0;34m=\u001b[0m\u001b[0;34m'1.1'\u001b[0m\u001b[0;34m)\u001b[0m\u001b[0;34m:\u001b[0m\u001b[0;34m\u001b[0m\u001b[0m\n\u001b[1;32m    269\u001b[0m         \u001b[0;34m\"\"\"Shortcut for GET requests via :class:`request`\"\"\"\u001b[0m\u001b[0;34m\u001b[0m\u001b[0m\n\u001b[0;32m--> 270\u001b[0;31m         \u001b[0;32mreturn\u001b[0m \u001b[0mself\u001b[0m\u001b[0;34m.\u001b[0m\u001b[0mrequest\u001b[0m\u001b[0;34m(\u001b[0m\u001b[0mendpoint\u001b[0m\u001b[0;34m,\u001b[0m \u001b[0mparams\u001b[0m\u001b[0;34m=\u001b[0m\u001b[0mparams\u001b[0m\u001b[0;34m,\u001b[0m \u001b[0mversion\u001b[0m\u001b[0;34m=\u001b[0m\u001b[0mversion\u001b[0m\u001b[0;34m)\u001b[0m\u001b[0;34m\u001b[0m\u001b[0m\n\u001b[0m\u001b[1;32m    271\u001b[0m \u001b[0;34m\u001b[0m\u001b[0m\n\u001b[1;32m    272\u001b[0m     \u001b[0;32mdef\u001b[0m \u001b[0mpost\u001b[0m\u001b[0;34m(\u001b[0m\u001b[0mself\u001b[0m\u001b[0;34m,\u001b[0m \u001b[0mendpoint\u001b[0m\u001b[0;34m,\u001b[0m \u001b[0mparams\u001b[0m\u001b[0;34m=\u001b[0m\u001b[0;32mNone\u001b[0m\u001b[0;34m,\u001b[0m \u001b[0mversion\u001b[0m\u001b[0;34m=\u001b[0m\u001b[0;34m'1.1'\u001b[0m\u001b[0;34m)\u001b[0m\u001b[0;34m:\u001b[0m\u001b[0;34m\u001b[0m\u001b[0m\n",
      "\u001b[0;32m~/anaconda3/envs/Spider/lib/python3.6/site-packages/twython/api.py\u001b[0m in \u001b[0;36mrequest\u001b[0;34m(self, endpoint, method, params, version)\u001b[0m\n\u001b[1;32m    262\u001b[0m \u001b[0;34m\u001b[0m\u001b[0m\n\u001b[1;32m    263\u001b[0m         content = self._request(url, method=method, params=params,\n\u001b[0;32m--> 264\u001b[0;31m                                 api_call=url)\n\u001b[0m\u001b[1;32m    265\u001b[0m \u001b[0;34m\u001b[0m\u001b[0m\n\u001b[1;32m    266\u001b[0m         \u001b[0;32mreturn\u001b[0m \u001b[0mcontent\u001b[0m\u001b[0;34m\u001b[0m\u001b[0m\n",
      "\u001b[0;32m~/anaconda3/envs/Spider/lib/python3.6/site-packages/twython/api.py\u001b[0m in \u001b[0;36m_request\u001b[0;34m(self, url, method, params, api_call)\u001b[0m\n\u001b[1;32m    197\u001b[0m                 \u001b[0merror_message\u001b[0m\u001b[0;34m,\u001b[0m\u001b[0;34m\u001b[0m\u001b[0m\n\u001b[1;32m    198\u001b[0m                 \u001b[0merror_code\u001b[0m\u001b[0;34m=\u001b[0m\u001b[0mresponse\u001b[0m\u001b[0;34m.\u001b[0m\u001b[0mstatus_code\u001b[0m\u001b[0;34m,\u001b[0m\u001b[0;34m\u001b[0m\u001b[0m\n\u001b[0;32m--> 199\u001b[0;31m                 retry_after=response.headers.get('X-Rate-Limit-Reset'))\n\u001b[0m\u001b[1;32m    200\u001b[0m         \u001b[0mcontent\u001b[0m \u001b[0;34m=\u001b[0m \u001b[0;34m''\u001b[0m\u001b[0;34m\u001b[0m\u001b[0m\n\u001b[1;32m    201\u001b[0m         \u001b[0;32mtry\u001b[0m\u001b[0;34m:\u001b[0m\u001b[0;34m\u001b[0m\u001b[0m\n",
      "\u001b[0;31mTwythonAuthError\u001b[0m: Twitter API returned a 400 (Bad Request), Bad Authentication data."
     ]
    }
   ],
   "source": [
    "twitter.show_status(id=\"1186080994316689408\")"
   ]
  },
  {
   "cell_type": "code",
   "execution_count": 9,
   "metadata": {},
   "outputs": [],
   "source": [
    "import json\n",
    "import tweepy\n",
    "import sys\n",
    "import pprint\n",
    "import os\n",
    "import configparser\n",
    "import time"
   ]
  },
  {
   "cell_type": "code",
   "execution_count": 18,
   "metadata": {},
   "outputs": [
    {
     "data": {
      "text/plain": [
       "['twitter.ini']"
      ]
     },
     "execution_count": 18,
     "metadata": {},
     "output_type": "execute_result"
    }
   ],
   "source": [
    "tweetid = sys.argv[1]\n",
    "\n",
    "config = configparser.ConfigParser()\n",
    "config.read('twitter.ini')"
   ]
  },
  {
   "cell_type": "code",
   "execution_count": 28,
   "metadata": {},
   "outputs": [
    {
     "data": {
      "text/plain": [
       "{'_dict': collections.OrderedDict,\n",
       " '_sections': OrderedDict([('Twitter',\n",
       "               OrderedDict([('consumer_key', '\"dOQmi0T9OGSwaPyZ1qo09a4TO\"'),\n",
       "                            ('consumer_secret',\n",
       "                             '\"6Qbr7xb3A03UaPvIj59s9VuBM2vcZX3CQlfDvI8ghR2uv6t3O7\"'),\n",
       "                            ('access_key',\n",
       "                             '\"3388759955-tlTMoWad4gq8Flq9HYEPJeLwg2ydyNFo9dN4XvG\"'),\n",
       "                            ('access_secret',\n",
       "                             '\"hvvnzBJmaTul20euJIhjOc2W3fwVncIaL3yG7KQrdQV96\"')]))]),\n",
       " '_defaults': OrderedDict(),\n",
       " '_converters': <configparser.ConverterMapping at 0x11a060940>,\n",
       " '_proxies': OrderedDict([('DEFAULT', <Section: DEFAULT>),\n",
       "              ('Twitter', <Section: Twitter>)]),\n",
       " '_delimiters': ('=', ':'),\n",
       " '_optcre': re.compile(r'\\n        (?P<option>.*?)                    # very permissive!\\n        \\s*(?P<vi>=|:)\\s*              # any number of space/tab,\\n                                           # followed by any of the\\n                                           # allowed delimiters,\\n                                           # followed by any space/tab\\n        (?P<value>.*)$                     # everything up to eol\\n        ',\n",
       " re.UNICODE|re.VERBOSE),\n",
       " '_comment_prefixes': ('#', ';'),\n",
       " '_inline_comment_prefixes': (),\n",
       " '_strict': True,\n",
       " '_allow_no_value': False,\n",
       " '_empty_lines_in_values': True,\n",
       " 'default_section': 'DEFAULT',\n",
       " '_interpolation': <configparser.BasicInterpolation at 0x111286ba8>}"
      ]
     },
     "execution_count": 28,
     "metadata": {},
     "output_type": "execute_result"
    }
   ],
   "source": [
    "config.__dict__"
   ]
  },
  {
   "cell_type": "code",
   "execution_count": 20,
   "metadata": {},
   "outputs": [
    {
     "name": "stdout",
     "output_type": "stream",
     "text": [
      "Help on ConfigParser in module configparser object:\n",
      "\n",
      "class ConfigParser(RawConfigParser)\n",
      " |  ConfigParser implementing interpolation.\n",
      " |  \n",
      " |  Method resolution order:\n",
      " |      ConfigParser\n",
      " |      RawConfigParser\n",
      " |      collections.abc.MutableMapping\n",
      " |      collections.abc.Mapping\n",
      " |      collections.abc.Collection\n",
      " |      collections.abc.Sized\n",
      " |      collections.abc.Iterable\n",
      " |      collections.abc.Container\n",
      " |      builtins.object\n",
      " |  \n",
      " |  Methods defined here:\n",
      " |  \n",
      " |  add_section(self, section)\n",
      " |      Create a new section in the configuration.  Extends\n",
      " |      RawConfigParser.add_section by validating if the section name is\n",
      " |      a string.\n",
      " |  \n",
      " |  set(self, section, option, value=None)\n",
      " |      Set an option.  Extends RawConfigParser.set by validating type and\n",
      " |      interpolation syntax on the value.\n",
      " |  \n",
      " |  ----------------------------------------------------------------------\n",
      " |  Data and other attributes defined here:\n",
      " |  \n",
      " |  __abstractmethods__ = frozenset()\n",
      " |  \n",
      " |  ----------------------------------------------------------------------\n",
      " |  Methods inherited from RawConfigParser:\n",
      " |  \n",
      " |  __contains__(self, key)\n",
      " |  \n",
      " |  __delitem__(self, key)\n",
      " |  \n",
      " |  __getitem__(self, key)\n",
      " |  \n",
      " |  __init__(self, defaults=None, dict_type=<class 'collections.OrderedDict'>, allow_no_value=False, *, delimiters=('=', ':'), comment_prefixes=('#', ';'), inline_comment_prefixes=None, strict=True, empty_lines_in_values=True, default_section='DEFAULT', interpolation=<object object at 0x110b74240>, converters=<object object at 0x110b74240>)\n",
      " |      Initialize self.  See help(type(self)) for accurate signature.\n",
      " |  \n",
      " |  __iter__(self)\n",
      " |  \n",
      " |  __len__(self)\n",
      " |  \n",
      " |  __setitem__(self, key, value)\n",
      " |  \n",
      " |  defaults(self)\n",
      " |  \n",
      " |  get(self, section, option, *, raw=False, vars=None, fallback=<object object at 0x110b74240>)\n",
      " |      Get an option value for a given section.\n",
      " |      \n",
      " |      If `vars' is provided, it must be a dictionary. The option is looked up\n",
      " |      in `vars' (if provided), `section', and in `DEFAULTSECT' in that order.\n",
      " |      If the key is not found and `fallback' is provided, it is used as\n",
      " |      a fallback value. `None' can be provided as a `fallback' value.\n",
      " |      \n",
      " |      If interpolation is enabled and the optional argument `raw' is False,\n",
      " |      all interpolations are expanded in the return values.\n",
      " |      \n",
      " |      Arguments `raw', `vars', and `fallback' are keyword only.\n",
      " |      \n",
      " |      The section DEFAULT is special.\n",
      " |  \n",
      " |  getboolean(self, section, option, *, raw=False, vars=None, fallback=<object object at 0x110b74240>, **kwargs)\n",
      " |  \n",
      " |  getfloat(self, section, option, *, raw=False, vars=None, fallback=<object object at 0x110b74240>, **kwargs)\n",
      " |  \n",
      " |  getint(self, section, option, *, raw=False, vars=None, fallback=<object object at 0x110b74240>, **kwargs)\n",
      " |      # getint, getfloat and getboolean provided directly for backwards compat\n",
      " |  \n",
      " |  has_option(self, section, option)\n",
      " |      Check for the existence of a given option in a given section.\n",
      " |      If the specified `section' is None or an empty string, DEFAULT is\n",
      " |      assumed. If the specified `section' does not exist, returns False.\n",
      " |  \n",
      " |  has_section(self, section)\n",
      " |      Indicate whether the named section is present in the configuration.\n",
      " |      \n",
      " |      The DEFAULT section is not acknowledged.\n",
      " |  \n",
      " |  items(self, section=<object object at 0x110b74240>, raw=False, vars=None)\n",
      " |      Return a list of (name, value) tuples for each option in a section.\n",
      " |      \n",
      " |      All % interpolations are expanded in the return values, based on the\n",
      " |      defaults passed into the constructor, unless the optional argument\n",
      " |      `raw' is true.  Additional substitutions may be provided using the\n",
      " |      `vars' argument, which must be a dictionary whose contents overrides\n",
      " |      any pre-existing defaults.\n",
      " |      \n",
      " |      The section DEFAULT is special.\n",
      " |  \n",
      " |  options(self, section)\n",
      " |      Return a list of option names for the given section name.\n",
      " |  \n",
      " |  optionxform(self, optionstr)\n",
      " |  \n",
      " |  popitem(self)\n",
      " |      Remove a section from the parser and return it as\n",
      " |      a (section_name, section_proxy) tuple. If no section is present, raise\n",
      " |      KeyError.\n",
      " |      \n",
      " |      The section DEFAULT is never returned because it cannot be removed.\n",
      " |  \n",
      " |  read(self, filenames, encoding=None)\n",
      " |      Read and parse a filename or a list of filenames.\n",
      " |      \n",
      " |      Files that cannot be opened are silently ignored; this is\n",
      " |      designed so that you can specify a list of potential\n",
      " |      configuration file locations (e.g. current directory, user's\n",
      " |      home directory, systemwide directory), and all existing\n",
      " |      configuration files in the list will be read.  A single\n",
      " |      filename may also be given.\n",
      " |      \n",
      " |      Return list of successfully read files.\n",
      " |  \n",
      " |  read_dict(self, dictionary, source='<dict>')\n",
      " |      Read configuration from a dictionary.\n",
      " |      \n",
      " |      Keys are section names, values are dictionaries with keys and values\n",
      " |      that should be present in the section. If the used dictionary type\n",
      " |      preserves order, sections and their keys will be added in order.\n",
      " |      \n",
      " |      All types held in the dictionary are converted to strings during\n",
      " |      reading, including section names, option names and keys.\n",
      " |      \n",
      " |      Optional second argument is the `source' specifying the name of the\n",
      " |      dictionary being read.\n",
      " |  \n",
      " |  read_file(self, f, source=None)\n",
      " |      Like read() but the argument must be a file-like object.\n",
      " |      \n",
      " |      The `f' argument must be iterable, returning one line at a time.\n",
      " |      Optional second argument is the `source' specifying the name of the\n",
      " |      file being read. If not given, it is taken from f.name. If `f' has no\n",
      " |      `name' attribute, `<???>' is used.\n",
      " |  \n",
      " |  read_string(self, string, source='<string>')\n",
      " |      Read configuration from a given string.\n",
      " |  \n",
      " |  readfp(self, fp, filename=None)\n",
      " |      Deprecated, use read_file instead.\n",
      " |  \n",
      " |  remove_option(self, section, option)\n",
      " |      Remove an option.\n",
      " |  \n",
      " |  remove_section(self, section)\n",
      " |      Remove a file section.\n",
      " |  \n",
      " |  sections(self)\n",
      " |      Return a list of section names, excluding [DEFAULT]\n",
      " |  \n",
      " |  write(self, fp, space_around_delimiters=True)\n",
      " |      Write an .ini-format representation of the configuration state.\n",
      " |      \n",
      " |      If `space_around_delimiters' is True (the default), delimiters\n",
      " |      between keys and values are surrounded by spaces.\n",
      " |  \n",
      " |  ----------------------------------------------------------------------\n",
      " |  Data descriptors inherited from RawConfigParser:\n",
      " |  \n",
      " |  __dict__\n",
      " |      dictionary for instance variables (if defined)\n",
      " |  \n",
      " |  __weakref__\n",
      " |      list of weak references to the object (if defined)\n",
      " |  \n",
      " |  converters\n",
      " |  \n",
      " |  ----------------------------------------------------------------------\n",
      " |  Data and other attributes inherited from RawConfigParser:\n",
      " |  \n",
      " |  BOOLEAN_STATES = {'0': False, '1': True, 'false': False, 'no': False, ...\n",
      " |  \n",
      " |  NONSPACECRE = re.compile('\\\\S')\n",
      " |  \n",
      " |  OPTCRE = re.compile('\\n        (?P<option>.*?)           ...          ...\n",
      " |  \n",
      " |  OPTCRE_NV = re.compile('\\n        (?P<option>.*?)           ...       ...\n",
      " |  \n",
      " |  SECTCRE = re.compile('\\n        \\\\[                       ...         ...\n",
      " |  \n",
      " |  ----------------------------------------------------------------------\n",
      " |  Methods inherited from collections.abc.MutableMapping:\n",
      " |  \n",
      " |  clear(self)\n",
      " |      D.clear() -> None.  Remove all items from D.\n",
      " |  \n",
      " |  pop(self, key, default=<object object at 0x10e3a1050>)\n",
      " |      D.pop(k[,d]) -> v, remove specified key and return the corresponding value.\n",
      " |      If key is not found, d is returned if given, otherwise KeyError is raised.\n",
      " |  \n",
      " |  setdefault(self, key, default=None)\n",
      " |      D.setdefault(k[,d]) -> D.get(k,d), also set D[k]=d if k not in D\n",
      " |  \n",
      " |  update(*args, **kwds)\n",
      " |      D.update([E, ]**F) -> None.  Update D from mapping/iterable E and F.\n",
      " |      If E present and has a .keys() method, does:     for k in E: D[k] = E[k]\n",
      " |      If E present and lacks .keys() method, does:     for (k, v) in E: D[k] = v\n",
      " |      In either case, this is followed by: for k, v in F.items(): D[k] = v\n",
      " |  \n",
      " |  ----------------------------------------------------------------------\n",
      " |  Methods inherited from collections.abc.Mapping:\n",
      " |  \n",
      " |  __eq__(self, other)\n",
      " |      Return self==value.\n",
      " |  \n",
      " |  keys(self)\n",
      " |      D.keys() -> a set-like object providing a view on D's keys\n",
      " |  \n",
      " |  values(self)\n",
      " |      D.values() -> an object providing a view on D's values\n",
      " |  \n",
      " |  ----------------------------------------------------------------------\n",
      " |  Data and other attributes inherited from collections.abc.Mapping:\n",
      " |  \n",
      " |  __hash__ = None\n",
      " |  \n",
      " |  __reversed__ = None\n",
      " |  \n",
      " |  ----------------------------------------------------------------------\n",
      " |  Class methods inherited from collections.abc.Collection:\n",
      " |  \n",
      " |  __subclasshook__(C) from abc.ABCMeta\n",
      " |      Abstract classes can override this to customize issubclass().\n",
      " |      \n",
      " |      This is invoked early on by abc.ABCMeta.__subclasscheck__().\n",
      " |      It should return True, False or NotImplemented.  If it returns\n",
      " |      NotImplemented, the normal algorithm is used.  Otherwise, it\n",
      " |      overrides the normal algorithm (and the outcome is cached).\n",
      "\n"
     ]
    }
   ],
   "source": [
    "help(config)"
   ]
  },
  {
   "cell_type": "code",
   "execution_count": 29,
   "metadata": {},
   "outputs": [],
   "source": [
    "\n",
    "\n",
    "consumer_key = \"lr7GQ6kTaSBkjQV8SvsFDVl8z\"\n",
    "consumer_secret = \"oxrXDT8TxsYRV8dRI62TkyBPeh1qqIfk0k7vsX6zHyHSZ7fwZR\"\n",
    "access_key = \"3388759955-FOU7DtTSaELMM3KrTRcDJApQLDRjIbvICPCJtT5\"\n",
    "access_secret = \"qEvay5uQpR9MbqBIN7a4OLUxt0sTlHclSeI1KrblHJR8X\"\n"
   ]
  },
  {
   "cell_type": "code",
   "execution_count": 30,
   "metadata": {},
   "outputs": [],
   "source": [
    "auth = tweepy.OAuthHandler(consumer_key, consumer_secret)\n",
    "auth.set_access_token(access_key, access_secret)\n",
    "api = tweepy.API(auth)"
   ]
  },
  {
   "cell_type": "code",
   "execution_count": 31,
   "metadata": {},
   "outputs": [],
   "source": [
    "auth = tweepy.OAuthHandler(consumer_key, consumer_secret)  "
   ]
  },
  {
   "cell_type": "code",
   "execution_count": 32,
   "metadata": {
    "scrolled": true
   },
   "outputs": [
    {
     "data": {
      "text/plain": [
       "'https://api.twitter.com/oauth/authorize?oauth_token=6zdxqQAAAAAA_yJ8AAABbfP2AFI'"
      ]
     },
     "execution_count": 32,
     "metadata": {},
     "output_type": "execute_result"
    }
   ],
   "source": [
    "auth.get_authorization_url()"
   ]
  },
  {
   "cell_type": "code",
   "execution_count": 33,
   "metadata": {},
   "outputs": [
    {
     "name": "stdout",
     "output_type": "stream",
     "text": [
      "Type in the generated PIN: 5103515\n"
     ]
    }
   ],
   "source": [
    "verifier = input('Type in the generated PIN: ').strip()"
   ]
  },
  {
   "cell_type": "code",
   "execution_count": 34,
   "metadata": {},
   "outputs": [],
   "source": [
    "auth.get_access_token(verifier)\n",
    "full_auth = tweepy.OAuthHandler(consumer_key, consumer_secret)\n",
    "\n",
    "full_auth.set_access_token(auth.access_token, auth.access_token_secret)\n",
    "\n",
    "api = tweepy.API(full_auth)"
   ]
  },
  {
   "cell_type": "code",
   "execution_count": 36,
   "metadata": {},
   "outputs": [],
   "source": [
    "s = api.get_status(\"1186080994316689408\")"
   ]
  },
  {
   "cell_type": "code",
   "execution_count": 41,
   "metadata": {},
   "outputs": [
    {
     "data": {
      "text/plain": [
       "Status(_api=<tweepy.api.API object at 0x11a12fcf8>, _json={'created_at': 'Mon Oct 21 00:45:20 +0000 2019', 'id': 1186080994316689408, 'id_str': '1186080994316689408', 'text': 'Tomorrow, House Republicans are planning a Vote to Censure House Intelligence Committee Chairman Adam Schiff for de… https://t.co/KIUW6VCpzQ', 'truncated': True, 'entities': {'hashtags': [], 'symbols': [], 'user_mentions': [], 'urls': [{'url': 'https://t.co/KIUW6VCpzQ', 'expanded_url': 'https://twitter.com/i/web/status/1186080994316689408', 'display_url': 'twitter.com/i/web/status/1…', 'indices': [117, 140]}]}, 'source': '<a href=\"http://twitter.com/download/iphone\" rel=\"nofollow\">Twitter for iPhone</a>', 'in_reply_to_status_id': None, 'in_reply_to_status_id_str': None, 'in_reply_to_user_id': None, 'in_reply_to_user_id_str': None, 'in_reply_to_screen_name': None, 'user': {'id': 534023, 'id_str': '534023', 'name': 'ALX 🇺🇸 🎃', 'screen_name': 'alx', 'location': 'Online', 'description': '• @TPUSA 🇺🇸 • Patriot • Independent Trump Supporter. • Digital Diplomat Fighting for the Rights of Conservative Voices on Social Media.', 'url': 'https://t.co/f0dZUlKkcI', 'entities': {'url': {'urls': [{'url': 'https://t.co/f0dZUlKkcI', 'expanded_url': 'http://TPUSA.com', 'display_url': 'TPUSA.com', 'indices': [0, 23]}]}, 'description': {'urls': []}}, 'protected': False, 'followers_count': 23650, 'friends_count': 955, 'listed_count': 145, 'created_at': 'Thu Jan 04 12:21:45 +0000 2007', 'favourites_count': 26864, 'utc_offset': None, 'time_zone': None, 'geo_enabled': True, 'verified': False, 'statuses_count': 15261, 'lang': None, 'contributors_enabled': False, 'is_translator': False, 'is_translation_enabled': False, 'profile_background_color': '709397', 'profile_background_image_url': 'http://abs.twimg.com/images/themes/theme6/bg.gif', 'profile_background_image_url_https': 'https://abs.twimg.com/images/themes/theme6/bg.gif', 'profile_background_tile': False, 'profile_image_url': 'http://pbs.twimg.com/profile_images/1181836574599856128/OpIkAynq_normal.jpg', 'profile_image_url_https': 'https://pbs.twimg.com/profile_images/1181836574599856128/OpIkAynq_normal.jpg', 'profile_banner_url': 'https://pbs.twimg.com/profile_banners/534023/1550719871', 'profile_link_color': 'FF3300', 'profile_sidebar_border_color': '86A4A6', 'profile_sidebar_fill_color': 'A0C5C7', 'profile_text_color': '333333', 'profile_use_background_image': True, 'has_extended_profile': False, 'default_profile': False, 'default_profile_image': False, 'following': False, 'follow_request_sent': False, 'notifications': False, 'translator_type': 'none'}, 'geo': None, 'coordinates': None, 'place': None, 'contributors': None, 'is_quote_status': False, 'retweet_count': 2772, 'favorite_count': 4069, 'favorited': False, 'retweeted': False, 'possibly_sensitive': False, 'possibly_sensitive_appealable': False, 'lang': 'en'}, created_at=datetime.datetime(2019, 10, 21, 0, 45, 20), id=1186080994316689408, id_str='1186080994316689408', text='Tomorrow, House Republicans are planning a Vote to Censure House Intelligence Committee Chairman Adam Schiff for de… https://t.co/KIUW6VCpzQ', truncated=True, entities={'hashtags': [], 'symbols': [], 'user_mentions': [], 'urls': [{'url': 'https://t.co/KIUW6VCpzQ', 'expanded_url': 'https://twitter.com/i/web/status/1186080994316689408', 'display_url': 'twitter.com/i/web/status/1…', 'indices': [117, 140]}]}, source='Twitter for iPhone', source_url='http://twitter.com/download/iphone', in_reply_to_status_id=None, in_reply_to_status_id_str=None, in_reply_to_user_id=None, in_reply_to_user_id_str=None, in_reply_to_screen_name=None, author=User(_api=<tweepy.api.API object at 0x11a12fcf8>, _json={'id': 534023, 'id_str': '534023', 'name': 'ALX 🇺🇸 🎃', 'screen_name': 'alx', 'location': 'Online', 'description': '• @TPUSA 🇺🇸 • Patriot • Independent Trump Supporter. • Digital Diplomat Fighting for the Rights of Conservative Voices on Social Media.', 'url': 'https://t.co/f0dZUlKkcI', 'entities': {'url': {'urls': [{'url': 'https://t.co/f0dZUlKkcI', 'expanded_url': 'http://TPUSA.com', 'display_url': 'TPUSA.com', 'indices': [0, 23]}]}, 'description': {'urls': []}}, 'protected': False, 'followers_count': 23650, 'friends_count': 955, 'listed_count': 145, 'created_at': 'Thu Jan 04 12:21:45 +0000 2007', 'favourites_count': 26864, 'utc_offset': None, 'time_zone': None, 'geo_enabled': True, 'verified': False, 'statuses_count': 15261, 'lang': None, 'contributors_enabled': False, 'is_translator': False, 'is_translation_enabled': False, 'profile_background_color': '709397', 'profile_background_image_url': 'http://abs.twimg.com/images/themes/theme6/bg.gif', 'profile_background_image_url_https': 'https://abs.twimg.com/images/themes/theme6/bg.gif', 'profile_background_tile': False, 'profile_image_url': 'http://pbs.twimg.com/profile_images/1181836574599856128/OpIkAynq_normal.jpg', 'profile_image_url_https': 'https://pbs.twimg.com/profile_images/1181836574599856128/OpIkAynq_normal.jpg', 'profile_banner_url': 'https://pbs.twimg.com/profile_banners/534023/1550719871', 'profile_link_color': 'FF3300', 'profile_sidebar_border_color': '86A4A6', 'profile_sidebar_fill_color': 'A0C5C7', 'profile_text_color': '333333', 'profile_use_background_image': True, 'has_extended_profile': False, 'default_profile': False, 'default_profile_image': False, 'following': False, 'follow_request_sent': False, 'notifications': False, 'translator_type': 'none'}, id=534023, id_str='534023', name='ALX 🇺🇸 🎃', screen_name='alx', location='Online', description='• @TPUSA 🇺🇸 • Patriot • Independent Trump Supporter. • Digital Diplomat Fighting for the Rights of Conservative Voices on Social Media.', url='https://t.co/f0dZUlKkcI', entities={'url': {'urls': [{'url': 'https://t.co/f0dZUlKkcI', 'expanded_url': 'http://TPUSA.com', 'display_url': 'TPUSA.com', 'indices': [0, 23]}]}, 'description': {'urls': []}}, protected=False, followers_count=23650, friends_count=955, listed_count=145, created_at=datetime.datetime(2007, 1, 4, 12, 21, 45), favourites_count=26864, utc_offset=None, time_zone=None, geo_enabled=True, verified=False, statuses_count=15261, lang=None, contributors_enabled=False, is_translator=False, is_translation_enabled=False, profile_background_color='709397', profile_background_image_url='http://abs.twimg.com/images/themes/theme6/bg.gif', profile_background_image_url_https='https://abs.twimg.com/images/themes/theme6/bg.gif', profile_background_tile=False, profile_image_url='http://pbs.twimg.com/profile_images/1181836574599856128/OpIkAynq_normal.jpg', profile_image_url_https='https://pbs.twimg.com/profile_images/1181836574599856128/OpIkAynq_normal.jpg', profile_banner_url='https://pbs.twimg.com/profile_banners/534023/1550719871', profile_link_color='FF3300', profile_sidebar_border_color='86A4A6', profile_sidebar_fill_color='A0C5C7', profile_text_color='333333', profile_use_background_image=True, has_extended_profile=False, default_profile=False, default_profile_image=False, following=False, follow_request_sent=False, notifications=False, translator_type='none'), user=User(_api=<tweepy.api.API object at 0x11a12fcf8>, _json={'id': 534023, 'id_str': '534023', 'name': 'ALX 🇺🇸 🎃', 'screen_name': 'alx', 'location': 'Online', 'description': '• @TPUSA 🇺🇸 • Patriot • Independent Trump Supporter. • Digital Diplomat Fighting for the Rights of Conservative Voices on Social Media.', 'url': 'https://t.co/f0dZUlKkcI', 'entities': {'url': {'urls': [{'url': 'https://t.co/f0dZUlKkcI', 'expanded_url': 'http://TPUSA.com', 'display_url': 'TPUSA.com', 'indices': [0, 23]}]}, 'description': {'urls': []}}, 'protected': False, 'followers_count': 23650, 'friends_count': 955, 'listed_count': 145, 'created_at': 'Thu Jan 04 12:21:45 +0000 2007', 'favourites_count': 26864, 'utc_offset': None, 'time_zone': None, 'geo_enabled': True, 'verified': False, 'statuses_count': 15261, 'lang': None, 'contributors_enabled': False, 'is_translator': False, 'is_translation_enabled': False, 'profile_background_color': '709397', 'profile_background_image_url': 'http://abs.twimg.com/images/themes/theme6/bg.gif', 'profile_background_image_url_https': 'https://abs.twimg.com/images/themes/theme6/bg.gif', 'profile_background_tile': False, 'profile_image_url': 'http://pbs.twimg.com/profile_images/1181836574599856128/OpIkAynq_normal.jpg', 'profile_image_url_https': 'https://pbs.twimg.com/profile_images/1181836574599856128/OpIkAynq_normal.jpg', 'profile_banner_url': 'https://pbs.twimg.com/profile_banners/534023/1550719871', 'profile_link_color': 'FF3300', 'profile_sidebar_border_color': '86A4A6', 'profile_sidebar_fill_color': 'A0C5C7', 'profile_text_color': '333333', 'profile_use_background_image': True, 'has_extended_profile': False, 'default_profile': False, 'default_profile_image': False, 'following': False, 'follow_request_sent': False, 'notifications': False, 'translator_type': 'none'}, id=534023, id_str='534023', name='ALX 🇺🇸 🎃', screen_name='alx', location='Online', description='• @TPUSA 🇺🇸 • Patriot • Independent Trump Supporter. • Digital Diplomat Fighting for the Rights of Conservative Voices on Social Media.', url='https://t.co/f0dZUlKkcI', entities={'url': {'urls': [{'url': 'https://t.co/f0dZUlKkcI', 'expanded_url': 'http://TPUSA.com', 'display_url': 'TPUSA.com', 'indices': [0, 23]}]}, 'description': {'urls': []}}, protected=False, followers_count=23650, friends_count=955, listed_count=145, created_at=datetime.datetime(2007, 1, 4, 12, 21, 45), favourites_count=26864, utc_offset=None, time_zone=None, geo_enabled=True, verified=False, statuses_count=15261, lang=None, contributors_enabled=False, is_translator=False, is_translation_enabled=False, profile_background_color='709397', profile_background_image_url='http://abs.twimg.com/images/themes/theme6/bg.gif', profile_background_image_url_https='https://abs.twimg.com/images/themes/theme6/bg.gif', profile_background_tile=False, profile_image_url='http://pbs.twimg.com/profile_images/1181836574599856128/OpIkAynq_normal.jpg', profile_image_url_https='https://pbs.twimg.com/profile_images/1181836574599856128/OpIkAynq_normal.jpg', profile_banner_url='https://pbs.twimg.com/profile_banners/534023/1550719871', profile_link_color='FF3300', profile_sidebar_border_color='86A4A6', profile_sidebar_fill_color='A0C5C7', profile_text_color='333333', profile_use_background_image=True, has_extended_profile=False, default_profile=False, default_profile_image=False, following=False, follow_request_sent=False, notifications=False, translator_type='none'), geo=None, coordinates=None, place=None, contributors=None, is_quote_status=False, retweet_count=2772, favorite_count=4069, favorited=False, retweeted=False, possibly_sensitive=False, possibly_sensitive_appealable=False, lang='en')"
      ]
     },
     "execution_count": 41,
     "metadata": {},
     "output_type": "execute_result"
    }
   ],
   "source": [
    "s"
   ]
  },
  {
   "cell_type": "code",
   "execution_count": 40,
   "metadata": {},
   "outputs": [
    {
     "ename": "TypeError",
     "evalue": "Object of type 'Status' is not JSON serializable",
     "output_type": "error",
     "traceback": [
      "\u001b[0;31m---------------------------------------------------------------------------\u001b[0m",
      "\u001b[0;31mTypeError\u001b[0m                                 Traceback (most recent call last)",
      "\u001b[0;32m<ipython-input-40-eb8174a6fbaa>\u001b[0m in \u001b[0;36m<module>\u001b[0;34m\u001b[0m\n\u001b[0;32m----> 1\u001b[0;31m \u001b[0mjson\u001b[0m\u001b[0;34m.\u001b[0m\u001b[0mdumps\u001b[0m\u001b[0;34m(\u001b[0m\u001b[0ms\u001b[0m\u001b[0;34m)\u001b[0m\u001b[0;34m\u001b[0m\u001b[0m\n\u001b[0m",
      "\u001b[0;32m~/anaconda3/envs/Spider/lib/python3.6/json/__init__.py\u001b[0m in \u001b[0;36mdumps\u001b[0;34m(obj, skipkeys, ensure_ascii, check_circular, allow_nan, cls, indent, separators, default, sort_keys, **kw)\u001b[0m\n\u001b[1;32m    229\u001b[0m         \u001b[0mcls\u001b[0m \u001b[0;32mis\u001b[0m \u001b[0;32mNone\u001b[0m \u001b[0;32mand\u001b[0m \u001b[0mindent\u001b[0m \u001b[0;32mis\u001b[0m \u001b[0;32mNone\u001b[0m \u001b[0;32mand\u001b[0m \u001b[0mseparators\u001b[0m \u001b[0;32mis\u001b[0m \u001b[0;32mNone\u001b[0m \u001b[0;32mand\u001b[0m\u001b[0;34m\u001b[0m\u001b[0m\n\u001b[1;32m    230\u001b[0m         default is None and not sort_keys and not kw):\n\u001b[0;32m--> 231\u001b[0;31m         \u001b[0;32mreturn\u001b[0m \u001b[0m_default_encoder\u001b[0m\u001b[0;34m.\u001b[0m\u001b[0mencode\u001b[0m\u001b[0;34m(\u001b[0m\u001b[0mobj\u001b[0m\u001b[0;34m)\u001b[0m\u001b[0;34m\u001b[0m\u001b[0m\n\u001b[0m\u001b[1;32m    232\u001b[0m     \u001b[0;32mif\u001b[0m \u001b[0mcls\u001b[0m \u001b[0;32mis\u001b[0m \u001b[0;32mNone\u001b[0m\u001b[0;34m:\u001b[0m\u001b[0;34m\u001b[0m\u001b[0m\n\u001b[1;32m    233\u001b[0m         \u001b[0mcls\u001b[0m \u001b[0;34m=\u001b[0m \u001b[0mJSONEncoder\u001b[0m\u001b[0;34m\u001b[0m\u001b[0m\n",
      "\u001b[0;32m~/anaconda3/envs/Spider/lib/python3.6/json/encoder.py\u001b[0m in \u001b[0;36mencode\u001b[0;34m(self, o)\u001b[0m\n\u001b[1;32m    197\u001b[0m         \u001b[0;31m# exceptions aren't as detailed.  The list call should be roughly\u001b[0m\u001b[0;34m\u001b[0m\u001b[0;34m\u001b[0m\u001b[0m\n\u001b[1;32m    198\u001b[0m         \u001b[0;31m# equivalent to the PySequence_Fast that ''.join() would do.\u001b[0m\u001b[0;34m\u001b[0m\u001b[0;34m\u001b[0m\u001b[0m\n\u001b[0;32m--> 199\u001b[0;31m         \u001b[0mchunks\u001b[0m \u001b[0;34m=\u001b[0m \u001b[0mself\u001b[0m\u001b[0;34m.\u001b[0m\u001b[0miterencode\u001b[0m\u001b[0;34m(\u001b[0m\u001b[0mo\u001b[0m\u001b[0;34m,\u001b[0m \u001b[0m_one_shot\u001b[0m\u001b[0;34m=\u001b[0m\u001b[0;32mTrue\u001b[0m\u001b[0;34m)\u001b[0m\u001b[0;34m\u001b[0m\u001b[0m\n\u001b[0m\u001b[1;32m    200\u001b[0m         \u001b[0;32mif\u001b[0m \u001b[0;32mnot\u001b[0m \u001b[0misinstance\u001b[0m\u001b[0;34m(\u001b[0m\u001b[0mchunks\u001b[0m\u001b[0;34m,\u001b[0m \u001b[0;34m(\u001b[0m\u001b[0mlist\u001b[0m\u001b[0;34m,\u001b[0m \u001b[0mtuple\u001b[0m\u001b[0;34m)\u001b[0m\u001b[0;34m)\u001b[0m\u001b[0;34m:\u001b[0m\u001b[0;34m\u001b[0m\u001b[0m\n\u001b[1;32m    201\u001b[0m             \u001b[0mchunks\u001b[0m \u001b[0;34m=\u001b[0m \u001b[0mlist\u001b[0m\u001b[0;34m(\u001b[0m\u001b[0mchunks\u001b[0m\u001b[0;34m)\u001b[0m\u001b[0;34m\u001b[0m\u001b[0m\n",
      "\u001b[0;32m~/anaconda3/envs/Spider/lib/python3.6/json/encoder.py\u001b[0m in \u001b[0;36miterencode\u001b[0;34m(self, o, _one_shot)\u001b[0m\n\u001b[1;32m    255\u001b[0m                 \u001b[0mself\u001b[0m\u001b[0;34m.\u001b[0m\u001b[0mkey_separator\u001b[0m\u001b[0;34m,\u001b[0m \u001b[0mself\u001b[0m\u001b[0;34m.\u001b[0m\u001b[0mitem_separator\u001b[0m\u001b[0;34m,\u001b[0m \u001b[0mself\u001b[0m\u001b[0;34m.\u001b[0m\u001b[0msort_keys\u001b[0m\u001b[0;34m,\u001b[0m\u001b[0;34m\u001b[0m\u001b[0m\n\u001b[1;32m    256\u001b[0m                 self.skipkeys, _one_shot)\n\u001b[0;32m--> 257\u001b[0;31m         \u001b[0;32mreturn\u001b[0m \u001b[0m_iterencode\u001b[0m\u001b[0;34m(\u001b[0m\u001b[0mo\u001b[0m\u001b[0;34m,\u001b[0m \u001b[0;36m0\u001b[0m\u001b[0;34m)\u001b[0m\u001b[0;34m\u001b[0m\u001b[0m\n\u001b[0m\u001b[1;32m    258\u001b[0m \u001b[0;34m\u001b[0m\u001b[0m\n\u001b[1;32m    259\u001b[0m def _make_iterencode(markers, _default, _encoder, _indent, _floatstr,\n",
      "\u001b[0;32m~/anaconda3/envs/Spider/lib/python3.6/json/encoder.py\u001b[0m in \u001b[0;36mdefault\u001b[0;34m(self, o)\u001b[0m\n\u001b[1;32m    178\u001b[0m         \"\"\"\n\u001b[1;32m    179\u001b[0m         raise TypeError(\"Object of type '%s' is not JSON serializable\" %\n\u001b[0;32m--> 180\u001b[0;31m                         o.__class__.__name__)\n\u001b[0m\u001b[1;32m    181\u001b[0m \u001b[0;34m\u001b[0m\u001b[0m\n\u001b[1;32m    182\u001b[0m     \u001b[0;32mdef\u001b[0m \u001b[0mencode\u001b[0m\u001b[0;34m(\u001b[0m\u001b[0mself\u001b[0m\u001b[0;34m,\u001b[0m \u001b[0mo\u001b[0m\u001b[0;34m)\u001b[0m\u001b[0;34m:\u001b[0m\u001b[0;34m\u001b[0m\u001b[0m\n",
      "\u001b[0;31mTypeError\u001b[0m: Object of type 'Status' is not JSON serializable"
     ]
    }
   ],
   "source": [
    "json.dumps(s)"
   ]
  },
  {
   "cell_type": "code",
   "execution_count": null,
   "metadata": {},
   "outputs": [],
   "source": [
    "#授权成功后跳转回第三方页面的地址要么多写个callback参数 要么会调用你应用设置OAuth settings 里的Callback URL  \n",
    "#auth = tweepy.OAuthHandler(consumer_token, consumer_secret,callback_url)  \n",
    "  \n",
    "#后面就是获取twitter授权页面的地址  \n",
    "\n",
    "#redirect_url就是授权页面的地址  你放在浏览器里打开就行。  \n",
    "#redirect_url:http://api.twitter.com/oauth/authorize?oauth_token=RGITmajuvv41PVB44k599jdYG6zMLa3u0xucjGMVk 点击同意之后就会跳转回自己的填的callback 的地址  \n",
    "#比如 这种http://host.com/?oauth_token=RGITmAjuvv51PVB64k499jdLG6zMLa3u0xacjGMVk&oauth_verifier=1Tkin2PU0HDLZcKk2uuj5vQxGrUPJqfNkd6vqN19osc  \n",
    "#url里的oauth_verifier 会用到最后  \n",
    "oauth_verifier='1Tkin2PU0HDLZcKk2uuj5vQxGrUPJqfNkd6vqN19osc'  \n",
    "  \n",
    "#接着获取用户的request_token和request_token_secret  \n",
    "request_token = auth.request_token.key  \n",
    "request_token_secret = auth.request_token.secret  \n",
    "  \n",
    "#到这里 已经满足了获取用户 的Access token和Access token secret的所有条件了  \n",
    "  \n",
    "auth = tweepy.OAuthHandler(consumer_key, consumer_secret)  \n",
    "auth.set_request_token(request_token,request_token_secret)  \n",
    "try:  \n",
    "    auth.get_access_token(verifier)  \n",
    "except tweepy.TweepError:  \n",
    "    print 'Error! Failed to get access token.'  \n",
    "      \n",
    "#到这里没报错的话我们就已经获得了我们要的东西了  \n",
    "access_token = auth.access_token.key  \n",
    "access_token_secret = auth.access_token.secret  \n",
    "  \n",
    "#把这2个变量保存好 以后要用这个用户的时候就可以直接获取这个用户的权限了。  \n",
    "#用这个用户发个推  \n",
    "auth = tweepy.OAuthHandler(consumer_key, consumer_secret)  \n",
    "auth.set_access_token(access_token, access_token_secret)  \n",
    "api = tweepy.API(auth)  "
   ]
  }
 ],
 "metadata": {
  "kernelspec": {
   "display_name": "Python 3",
   "language": "python",
   "name": "python3"
  },
  "language_info": {
   "codemirror_mode": {
    "name": "ipython",
    "version": 3
   },
   "file_extension": ".py",
   "mimetype": "text/x-python",
   "name": "python",
   "nbconvert_exporter": "python",
   "pygments_lexer": "ipython3",
   "version": "3.6.2"
  }
 },
 "nbformat": 4,
 "nbformat_minor": 2
}
